{
 "cells": [
  {
   "cell_type": "code",
   "execution_count": 11,
   "metadata": {},
   "outputs": [
    {
     "data": {
      "text/plain": [
       "<function _signal.default_int_handler(signalnum, frame, /)>"
      ]
     },
     "execution_count": 11,
     "metadata": {},
     "output_type": "execute_result"
    }
   ],
   "source": [
    "import csv\n",
    "import faker\n",
    "import random\n",
    "import datetime\n",
    "import signal\n",
    "import sys\n",
    "import os\n",
    "import time\n",
    "# Initialize Faker\n",
    "fake = faker.Faker()\n",
    "# Function to handle Ctrl+C gracefully\n",
    "\n",
    "def signal_handler(sig, frame):\n",
    "    print('Terminating...')\n",
    "    sys.exit(0)\n",
    "\n",
    "# Register signal handler for Ctrl+C\n",
    "signal.signal(signal.SIGINT, signal_handler)"
   ]
  },
  {
   "cell_type": "code",
   "execution_count": 12,
   "metadata": {},
   "outputs": [],
   "source": [
    "# Function to generate fake data\n",
    "def generate_data():\n",
    "    while True:\n",
    "        timestamp = datetime.datetime.now().strftime(\"%Y-%m-%d %H:%M:%S\")\n",
    "        city = fake.city()\n",
    "        user_login = fake.user_name()\n",
    "        name = fake.name()\n",
    "        email = fake.email()\n",
    "        gender = random.choice([\"Male\", \"Female\"])\n",
    "        yield (timestamp, city, user_login, name, email, gender)\n",
    "\n",
    "# Function to write data to CSV file\n",
    "def write_to_csv(data):\n",
    "    with open('../data/fake_data.csv', 'w', newline='') as csvfile:\n",
    "        csv_writer = csv.writer(csvfile)\n",
    "        csv_writer.writerow(data)"
   ]
  },
  {
   "cell_type": "code",
   "execution_count": 13,
   "metadata": {},
   "outputs": [
    {
     "name": "stdout",
     "output_type": "stream",
     "text": [
      "Press Ctrl+C to terminate...\n",
      "('2024-04-11 20:57:32', 'Stanleyton', 'guerraaustin', 'Richard Villarreal', 'bsoto@example.com', 'Male')\n",
      "('2024-04-11 20:57:42', 'South Katherineburgh', 'angelafarley', 'Ryan Poole', 'rowens@example.com', 'Male')\n",
      "('2024-04-11 20:57:52', 'Martinezberg', 'watsondean', 'Gary Wright', 'farmerdaniel@example.net', 'Female')\n",
      "('2024-04-11 20:58:02', 'Nguyenborough', 'garrettjohnson', 'Elizabeth Singleton', 'humphreyalejandra@example.net', 'Male')\n",
      "('2024-04-11 20:58:12', 'East Jeffreyland', 'ksmith', 'Michael Fowler', 'smithbrent@example.com', 'Female')\n",
      "('2024-04-11 20:58:22', 'Alexandriabury', 'bradley57', 'Caleb Mcdonald', 'benjaminwallace@example.org', 'Female')\n",
      "('2024-04-11 20:58:32', 'East Charles', 'schneiderpamela', 'Patrick Anthony', 'mckinneyanthony@example.com', 'Female')\n",
      "('2024-04-11 20:58:42', 'West Laurenville', 'barbarawright', 'Tara Ross', 'anthonymurray@example.com', 'Female')\n",
      "('2024-04-11 20:58:52', 'Marquezhaven', 'carla64', 'Kerri Knapp', 'carolbrooks@example.net', 'Female')\n",
      "('2024-04-11 20:59:02', 'Lake Williamside', 'roy25', 'Jennifer Griffin', 'vsandoval@example.net', 'Male')\n",
      "('2024-04-11 20:59:12', 'East Tiffanyhaven', 'mccoyjackie', 'Richard Woodward', 'robertskenneth@example.com', 'Male')\n",
      "('2024-04-11 20:59:22', 'West Kimberly', 'gadams', 'Sarah Collier', 'chasealvarado@example.org', 'Male')\n",
      "('2024-04-11 20:59:32', 'Wandachester', 'elizabethdavila', 'Gregory Fitzgerald', 'bradfordcatherine@example.org', 'Female')\n",
      "('2024-04-11 20:59:42', 'South Ericside', 'walkerrichard', 'Mrs. Karen Hanson MD', 'walkerdebra@example.org', 'Male')\n",
      "('2024-04-11 20:59:52', 'Adamsberg', 'castroronald', 'Sandra Davis', 'joeanderson@example.com', 'Female')\n",
      "('2024-04-11 21:00:02', 'Rossport', 'bcherry', 'Jason Hudson', 'carrivan@example.net', 'Female')\n",
      "('2024-04-11 21:00:12', 'Murraystad', 'pmcknight', 'Brittany Mendoza', 'kristisoto@example.com', 'Male')\n",
      "('2024-04-11 21:00:22', 'Williamview', 'robert61', 'Teresa Reyes', 'mbrowning@example.com', 'Female')\n",
      "('2024-04-11 21:00:32', 'Ellistown', 'stacyjohnson', 'Karen Garcia', 'steve84@example.org', 'Male')\n",
      "('2024-04-11 21:00:42', 'Stricklandfurt', 'hunterrebecca', 'Cynthia Chang', 'michelle13@example.com', 'Female')\n",
      "('2024-04-11 21:00:52', 'North Kyle', 'ryangomez', 'Jennifer Williams', 'brentphillips@example.org', 'Male')\n",
      "('2024-04-11 21:01:02', 'Harriston', 'doylekimberly', 'Heather Norris', 'harrisjohn@example.org', 'Female')\n",
      "('2024-04-11 21:01:12', 'Leetown', 'srodgers', 'April Trevino', 'kennedychad@example.com', 'Female')\n",
      "('2024-04-11 21:01:22', 'Bennettview', 'lkane', 'Robert Williams', 'jamie31@example.org', 'Female')\n",
      "('2024-04-11 21:01:32', 'Carlafort', 'reneewilliams', 'John Wheeler', 'carlos56@example.net', 'Female')\n",
      "('2024-04-11 21:01:42', 'Port Gregoryberg', 'stevensedwin', 'Randall Potter', 'stuartcarr@example.net', 'Female')\n",
      "('2024-04-11 21:01:52', 'Parrishtown', 'hudsonjenna', 'Erica Jordan', 'jsmith@example.net', 'Male')\n",
      "('2024-04-11 21:02:02', 'New Barry', 'jlong', 'Mary Rojas', 'gboone@example.net', 'Female')\n",
      "('2024-04-11 21:02:12', 'South Nathan', 'vhaas', 'Wanda Morrison', 'zrojas@example.org', 'Male')\n",
      "('2024-04-11 21:02:22', 'North Steven', 'ericaadams', 'Timothy Johnson', 'jennifer58@example.org', 'Male')\n",
      "('2024-04-11 21:02:32', 'Terrellchester', 'kennedystephen', 'Kelly Perez', 'heatherhenderson@example.com', 'Male')\n",
      "('2024-04-11 21:02:42', 'Lake Randallport', 'penamichael', 'Heather Higgins', 'davisbrian@example.net', 'Male')\n",
      "('2024-04-11 21:02:52', 'Charlesbury', 'robertkelley', 'Thomas Mckay', 'smithlaura@example.org', 'Male')\n",
      "('2024-04-11 21:03:02', 'New Andrea', 'carrolljohn', 'Maureen Gamble', 'ehardy@example.net', 'Male')\n",
      "('2024-04-11 21:03:12', 'Port Julia', 'vthompson', 'Kelsey Roberts', 'gcase@example.org', 'Female')\n",
      "('2024-04-11 21:03:22', 'Floresport', 'fkelly', 'Steven Norton', 'kayla04@example.org', 'Female')\n",
      "('2024-04-11 21:03:32', 'Port Lisafurt', 'emmagardner', 'Mary Weiss', 'rachaelmoreno@example.com', 'Female')\n",
      "('2024-04-11 21:03:42', 'Port Jamesmouth', 'gmorales', 'Jeremy Jones', 'lyoung@example.net', 'Female')\n",
      "('2024-04-11 21:03:52', 'North Elizabethfurt', 'jonallen', 'Matthew Phillips', 'cochranandrea@example.net', 'Female')\n",
      "('2024-04-11 21:04:02', 'Crystalmouth', 'swilliams', 'David Martinez', 'wcohen@example.net', 'Female')\n",
      "('2024-04-11 21:04:12', 'Richardschester', 'christina91', 'Sarah Bartlett', 'bishopsamantha@example.com', 'Male')\n",
      "('2024-04-11 21:04:22', 'Martinezshire', 'michael58', 'Natasha Adams', 'james89@example.net', 'Female')\n",
      "('2024-04-11 21:04:32', 'Lake Joshua', 'peterestes', 'Darius Caldwell', 'moranjaime@example.net', 'Female')\n",
      "('2024-04-11 21:04:42', 'East Alexanderfort', 'justinwright', 'Brianna Wright', 'rjames@example.com', 'Male')\n",
      "('2024-04-11 21:04:52', 'Perezport', 'rodriguezdebra', 'Paul Duran', 'jasonbyrd@example.net', 'Female')\n",
      "('2024-04-11 21:05:02', 'East Spencerfurt', 'patriciasmith', 'Cameron Williams', 'joshuamunoz@example.com', 'Female')\n",
      "('2024-04-11 21:05:12', 'Jimside', 'jonescraig', 'Philip Ward', 'tracyreyes@example.net', 'Female')\n",
      "('2024-04-11 21:05:22', 'Waynemouth', 'aliciahenry', 'David Cooper', 'allenjanet@example.net', 'Female')\n",
      "('2024-04-11 21:05:32', 'Tiffanymouth', 'oallen', 'Matthew Nelson', 'darrensanders@example.com', 'Male')\n",
      "('2024-04-11 21:05:42', 'Haaston', 'tpeters', 'Jesus Lee', 'shelbylamb@example.org', 'Male')\n",
      "('2024-04-11 21:05:52', 'North Amy', 'bianca71', 'Matthew Pope', 'kimberly94@example.net', 'Female')\n",
      "('2024-04-11 21:06:02', 'South Leslie', 'kwilliams', 'Morgan Matthews', 'nguyenhenry@example.org', 'Female')\n",
      "('2024-04-11 21:06:12', 'East Wendyfurt', 'eric89', 'Michele Lynch', 'lyoung@example.org', 'Male')\n",
      "('2024-04-11 21:06:22', 'Joestad', 'fosterjeffrey', 'Robert Frazier', 'hmiller@example.net', 'Female')\n",
      "('2024-04-11 21:06:32', 'Atkinsside', 'michael38', 'Gabriel Davidson', 'rebeccasimpson@example.org', 'Female')\n",
      "('2024-04-11 21:06:42', 'Francishaven', 'gmurphy', 'Nathan Klein', 'pruittjasmine@example.com', 'Male')\n",
      "('2024-04-11 21:06:52', 'North Margaret', 'gonzalezheidi', 'Christina Stokes', 'denisebrown@example.net', 'Female')\n",
      "('2024-04-11 21:07:02', 'West Amber', 'johnwilliams', 'James Hardin', 'khart@example.net', 'Male')\n",
      "('2024-04-11 21:07:12', 'Penafurt', 'woodsbrandon', 'Ashley Stone', 'austinhunt@example.com', 'Male')\n",
      "('2024-04-11 21:07:22', 'Davishaven', 'dfisher', 'Philip Johnson', 'jonathan84@example.com', 'Male')\n",
      "('2024-04-11 21:07:32', 'Port Andrea', 'bestbrenda', 'Sarah Contreras', 'irwinmargaret@example.com', 'Male')\n",
      "('2024-04-11 21:07:42', 'Kennethmouth', 'sharon67', 'James Everett', 'jeffreysmith@example.org', 'Male')\n",
      "('2024-04-11 21:07:52', 'North Seth', 'yho', 'Jeremy Thomas', 'angela58@example.com', 'Female')\n",
      "('2024-04-11 21:08:02', 'South Saraton', 'nicole52', 'Stacy Delgado', 'nvargas@example.com', 'Male')\n",
      "('2024-04-11 21:08:12', 'Owenstown', 'wjohnson', 'Kristy Glover', 'owood@example.net', 'Male')\n",
      "('2024-04-11 21:08:22', 'South Cynthia', 'johnking', 'Jonathan Johnson', 'johndiaz@example.com', 'Male')\n",
      "('2024-04-11 21:08:32', 'West Kennethhaven', 'patriciacarpenter', 'Randy Jenkins', 'jmorris@example.org', 'Female')\n",
      "('2024-04-11 21:08:42', 'New Shelby', 'adominguez', 'Dr. Jason Bailey', 'normadavis@example.org', 'Female')\n",
      "('2024-04-11 21:08:52', 'Hurstshire', 'ianbrown', 'David Hester', 'fwright@example.net', 'Male')\n",
      "('2024-04-11 21:09:02', 'Friedmanview', 'david95', 'Justin Chambers', 'ymendez@example.org', 'Female')\n",
      "('2024-04-11 21:09:12', 'North Ellenview', 'richard06', 'Justin Green', 'drew45@example.org', 'Female')\n",
      "('2024-04-11 21:09:22', 'New Garrettberg', 'davidwhite', 'Michelle Taylor', 'april06@example.com', 'Female')\n",
      "('2024-04-11 21:09:32', 'Ericborough', 'cpeters', 'Gregory Turner', 'fford@example.net', 'Male')\n",
      "('2024-04-11 21:09:42', 'Daughertybury', 'erinpena', 'Jose Alexander', 'amanda62@example.com', 'Female')\n",
      "('2024-04-11 21:09:52', 'South Nathanfurt', 'osimpson', 'Charles Fernandez', 'jessicaburton@example.org', 'Male')\n",
      "('2024-04-11 21:10:02', 'North Gregg', 'emiller', 'Edward Delgado', 'bwilliams@example.org', 'Female')\n",
      "('2024-04-11 21:10:12', 'Tinamouth', 'charrison', 'Karen Alvarez', 'makaylacarter@example.com', 'Male')\n",
      "('2024-04-11 21:10:22', 'Alejandroton', 'thomas11', 'Laura Smith', 'alironald@example.com', 'Female')\n",
      "('2024-04-11 21:10:32', 'Lake Robert', 'heatherbecker', 'Billy Thomas', 'kathleenoliver@example.com', 'Male')\n",
      "('2024-04-11 21:10:42', 'West Joelmouth', 'prattcaitlin', 'David Lara', 'jessica80@example.com', 'Female')\n",
      "('2024-04-11 21:10:52', 'Johnmouth', 'ericaknight', 'Valerie Rose', 'alexisbond@example.org', 'Male')\n",
      "('2024-04-11 21:11:02', 'Jenniferview', 'michaelbyrd', 'Christopher Taylor', 'jamesdowns@example.com', 'Male')\n"
     ]
    },
    {
     "ename": "KeyboardInterrupt",
     "evalue": "",
     "output_type": "error",
     "traceback": [
      "\u001b[1;31m---------------------------------------------------------------------------\u001b[0m",
      "\u001b[1;31mKeyboardInterrupt\u001b[0m                         Traceback (most recent call last)",
      "Cell \u001b[1;32mIn[13], line 10\u001b[0m\n\u001b[0;32m      8\u001b[0m \u001b[38;5;28mprint\u001b[39m(data)  \u001b[38;5;66;03m# Print data to console\u001b[39;00m\n\u001b[0;32m      9\u001b[0m write_to_csv(data)  \u001b[38;5;66;03m# Write data to CSV file\u001b[39;00m\n\u001b[1;32m---> 10\u001b[0m time\u001b[38;5;241m.\u001b[39msleep(\u001b[38;5;241m10\u001b[39m)\n",
      "\u001b[1;31mKeyboardInterrupt\u001b[0m: "
     ]
    }
   ],
   "source": [
    "data_generator = generate_data()\n",
    "    \n",
    "print(\"Press Ctrl+C to terminate...\")\n",
    "    \n",
    "    # Continuously generate sample data at 10 sec intervals\n",
    "while True:\n",
    "    data = next(data_generator)\n",
    "    print(data)  # Print data to console\n",
    "    write_to_csv(data)  # Write data to CSV file\n",
    "    time.sleep(10)"
   ]
  }
 ],
 "metadata": {
  "kernelspec": {
   "display_name": "Python 3",
   "language": "python",
   "name": "python3"
  },
  "language_info": {
   "codemirror_mode": {
    "name": "ipython",
    "version": 3
   },
   "file_extension": ".py",
   "mimetype": "text/x-python",
   "name": "python",
   "nbconvert_exporter": "python",
   "pygments_lexer": "ipython3",
   "version": "3.11.9"
  }
 },
 "nbformat": 4,
 "nbformat_minor": 2
}
