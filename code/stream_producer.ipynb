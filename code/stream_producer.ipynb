{
 "cells": [
  {
   "cell_type": "code",
   "execution_count": 11,
   "metadata": {},
   "outputs": [
    {
     "data": {
      "text/plain": [
       "<function _signal.default_int_handler(signalnum, frame, /)>"
      ]
     },
     "execution_count": 11,
     "metadata": {},
     "output_type": "execute_result"
    }
   ],
   "source": [
    "import csv\n",
    "import faker\n",
    "import random\n",
    "import datetime\n",
    "import signal\n",
    "import sys\n",
    "import os\n",
    "import time\n",
    "# Initialize Faker\n",
    "fake = faker.Faker()\n",
    "# Function to handle Ctrl+C gracefully\n",
    "\n",
    "def signal_handler(sig, frame):\n",
    "    print('Terminating...')\n",
    "    sys.exit(0)\n",
    "\n",
    "# Register signal handler for Ctrl+C\n",
    "signal.signal(signal.SIGINT, signal_handler)"
   ]
  },
  {
   "cell_type": "code",
   "execution_count": 12,
   "metadata": {},
   "outputs": [],
   "source": [
    "# Function to generate fake data\n",
    "def generate_data():\n",
    "    while True:\n",
    "        timestamp = datetime.datetime.now().strftime(\"%Y-%m-%d %H:%M:%S\")\n",
    "        city = fake.city()\n",
    "        user_login = fake.user_name()\n",
    "        name = fake.name()\n",
    "        email = fake.email()\n",
    "        gender = random.choice([\"Male\", \"Female\"])\n",
    "        yield (timestamp, city, user_login, name, email, gender)\n",
    "\n",
    "# Function to write data to CSV file\n",
    "def write_to_csv(data):\n",
    "    with open('../data/fake_data.csv', 'w', newline='') as csvfile:\n",
    "        csv_writer = csv.writer(csvfile)\n",
    "        csv_writer.writerow(data)"
   ]
  },
  {
   "cell_type": "code",
   "execution_count": 13,
   "metadata": {},
   "outputs": [
    {
     "name": "stdout",
     "output_type": "stream",
     "text": [
      "Press Ctrl+C to terminate...\n",
      "('2024-04-11 20:57:32', 'Stanleyton', 'guerraaustin', 'Richard Villarreal', 'bsoto@example.com', 'Male')\n",
      "('2024-04-11 20:57:42', 'South Katherineburgh', 'angelafarley', 'Ryan Poole', 'rowens@example.com', 'Male')\n",
      "('2024-04-11 20:57:52', 'Martinezberg', 'watsondean', 'Gary Wright', 'farmerdaniel@example.net', 'Female')\n",
      "('2024-04-11 20:58:02', 'Nguyenborough', 'garrettjohnson', 'Elizabeth Singleton', 'humphreyalejandra@example.net', 'Male')\n",
      "('2024-04-11 20:58:12', 'East Jeffreyland', 'ksmith', 'Michael Fowler', 'smithbrent@example.com', 'Female')\n"
     ]
    }
   ],
   "source": [
    "data_generator = generate_data()\n",
    "    \n",
    "print(\"Press Ctrl+C to terminate...\")\n",
    "    \n",
    "    # Continuously generate sample data at 10 sec intervals\n",
    "while True:\n",
    "    data = next(data_generator)\n",
    "    print(data)  # Print data to console\n",
    "    write_to_csv(data)  # Write data to CSV file\n",
    "    time.sleep(10)"
   ]
  }
 ],
 "metadata": {
  "kernelspec": {
   "display_name": "Python 3",
   "language": "python",
   "name": "python3"
  },
  "language_info": {
   "codemirror_mode": {
    "name": "ipython",
    "version": 3
   },
   "file_extension": ".py",
   "mimetype": "text/x-python",
   "name": "python",
   "nbconvert_exporter": "python",
   "pygments_lexer": "ipython3",
   "version": "3.11.9"
  }
 },
 "nbformat": 4,
 "nbformat_minor": 2
}
